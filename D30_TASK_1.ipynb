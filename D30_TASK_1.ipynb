{
  "nbformat": 4,
  "nbformat_minor": 0,
  "metadata": {
    "colab": {
      "provenance": []
    },
    "kernelspec": {
      "name": "python3",
      "display_name": "Python 3"
    },
    "language_info": {
      "name": "python"
    }
  },
  "cells": [
    {
      "cell_type": "code",
      "source": [
        "#write a python program to find those numbers which are divisible by 7 and multiples of 5, for user input.\n",
        "start = int(input(\"Enter the start of the range: \"))\n",
        "end = int(input(\"Enter the end of the range: \"))\n",
        "\n",
        "result = []\n",
        "\n",
        "for i in range(start, end + 1):\n",
        "    if i % 7 == 0 and i % 5 == 0:\n",
        "        result.append(i)\n",
        "\n",
        "if result:\n",
        "    print(\"Numbers divisible by 7 and multiples of 5 in the range:\", result)\n",
        "else:\n",
        "    print(\"No numbers found.\")"
      ],
      "metadata": {
        "colab": {
          "base_uri": "https://localhost:8080/"
        },
        "id": "EOaMoC9V_DZ5",
        "outputId": "96999a67-f4f1-4af6-dde9-731aba02aa28"
      },
      "execution_count": 6,
      "outputs": [
        {
          "output_type": "stream",
          "name": "stdout",
          "text": [
            "Enter the start of the range: 90\n",
            "Enter the end of the range: 190\n",
            "Numbers divisible by 7 and multiples of 5 in the range: [105, 140, 175]\n"
          ]
        }
      ]
    },
    {
      "cell_type": "code",
      "source": [
        "#Write a python program to check the user input is even or odd or zero\n",
        "num = int(input(\"Enter a number: \"))\n",
        "\n",
        "if num == 0:\n",
        "    print(\"The number is zero.\")\n",
        "\n",
        "elif num % 2 == 0:\n",
        "    print(\"The number is even.\")\n",
        "\n",
        "else:\n",
        "    print(\"The number is odd.\")"
      ],
      "metadata": {
        "colab": {
          "base_uri": "https://localhost:8080/"
        },
        "id": "T6aY0sWiByoV",
        "outputId": "e508662a-bfb9-452a-f595-d28b4927351d"
      },
      "execution_count": 3,
      "outputs": [
        {
          "output_type": "stream",
          "name": "stdout",
          "text": [
            "Enter a number: 7\n",
            "The number is odd.\n"
          ]
        }
      ]
    },
    {
      "cell_type": "code",
      "source": [
        "#Print decimal part of an input number. If the decimal part is zero print the string : “INTEGER”\n",
        "\n",
        "\n",
        "num = float(input(\"Enter a number: \"))\n",
        "\n",
        "\n",
        "decimal_part = num - int(num)\n",
        "\n",
        "\n",
        "if decimal_part == 0:\n",
        "    print(\"INTEGER\")\n",
        "else:\n",
        "    print(\"Decimal part:\", decimal_part)\n",
        ""
      ],
      "metadata": {
        "id": "E7hPO5qVB4fL"
      },
      "execution_count": null,
      "outputs": []
    }
  ]
}